{
 "cells": [
  {
   "cell_type": "code",
   "execution_count": 132,
   "metadata": {},
   "outputs": [],
   "source": [
    "import pandas as pd"
   ]
  },
  {
   "cell_type": "code",
   "execution_count": 133,
   "metadata": {},
   "outputs": [
    {
     "name": "stdout",
     "output_type": "stream",
     "text": [
      "name                   79109\n",
      "overview               60744\n",
      "description            46165\n",
      "category_code          57834\n",
      "permalink              79110\n",
      "crunchbase_url         79111\n",
      "homepage_url           61192\n",
      "blog_url               23653\n",
      "blog_feed_url          13462\n",
      "twitter_username       29786\n",
      "number_of_employees    33422\n",
      "founded_year           44927\n",
      "founded_month          29371\n",
      "founded_day            21061\n",
      "competitions           79111\n",
      "total_money_raised     79111\n",
      "funding_rounds         79111\n",
      "investments            79111\n",
      "acquisition             5604\n",
      "acquisitions           79111\n",
      "milestones             79111\n",
      "ipo                      629\n",
      "tag_list               40280\n",
      "dtype: int64\n",
      "name                   79111\n",
      "overview               79111\n",
      "description            79111\n",
      "category_code          79111\n",
      "permalink              79111\n",
      "crunchbase_url         79111\n",
      "homepage_url           79111\n",
      "blog_url               79111\n",
      "blog_feed_url          79111\n",
      "twitter_username       79111\n",
      "number_of_employees    79111\n",
      "founded_year           79111\n",
      "founded_month          79111\n",
      "founded_day            79111\n",
      "competitions           79111\n",
      "total_money_raised     79111\n",
      "funding_rounds         79111\n",
      "investments            79111\n",
      "acquisition            79111\n",
      "acquisitions           79111\n",
      "milestones             79111\n",
      "ipo                    79111\n",
      "tag_list               79111\n",
      "dtype: int64\n"
     ]
    }
   ],
   "source": [
    "# 2012 cmu_crunchbase dataset. This is the dataset used for finding Twitter names for companies.\n",
    "processed_data_dir = '../data/processed'\n",
    "df_2012 = pd.read_csv(processed_data_dir + '/' + 'cmu_cb_company.csv')\n",
    "print(df_2012.count())\n",
    "print(df_2012.apply(len))"
   ]
  },
  {
   "cell_type": "markdown",
   "metadata": {},
   "source": [
    "There are a lot of missing data for column \"description\", \"blog_url\", \"twitter_username\" and \"acquisition\". Next I want to select company with Twitter accounts."
   ]
  },
  {
   "cell_type": "code",
   "execution_count": 134,
   "metadata": {},
   "outputs": [
    {
     "data": {
      "text/plain": [
       "name                   29786\n",
       "overview               28282\n",
       "description            27425\n",
       "category_code          28813\n",
       "permalink              29786\n",
       "crunchbase_url         29786\n",
       "homepage_url           29681\n",
       "blog_url               17437\n",
       "blog_feed_url           9632\n",
       "twitter_username       29786\n",
       "number_of_employees    21833\n",
       "founded_year           25379\n",
       "founded_month          19010\n",
       "founded_day            13479\n",
       "competitions           29786\n",
       "total_money_raised     29786\n",
       "funding_rounds         29786\n",
       "investments            29786\n",
       "acquisition              748\n",
       "acquisitions           29786\n",
       "milestones             29786\n",
       "ipo                       91\n",
       "tag_list               24917\n",
       "dtype: int64"
      ]
     },
     "execution_count": 134,
     "metadata": {},
     "output_type": "execute_result"
    }
   ],
   "source": [
    "# select companies with Twitter account.\n",
    "companies_twit = df_2012.loc[df_2012.twitter_username.notnull()].copy()\n",
    "companies_twit['permalink'] = '/organization/' + companies_twit['permalink']\n",
    "companies_twit.count()"
   ]
  },
  {
   "cell_type": "code",
   "execution_count": 135,
   "metadata": {},
   "outputs": [
    {
     "data": {
      "text/plain": [
       "permalink            49438\n",
       "name                 49437\n",
       "homepage_url         45984\n",
       "category_list        45477\n",
       "market               45470\n",
       "funding_total_usd    49438\n",
       "status               48124\n",
       "country_code         44165\n",
       "state_code           30161\n",
       "region               44165\n",
       "city                 43322\n",
       "funding_rounds       49438\n",
       "founded_at           38554\n",
       "founded_month        38482\n",
       "founded_quarter      38482\n",
       "founded_year         38482\n",
       "first_funding_at     49438\n",
       "last_funding_at      49438\n",
       "dtype: int64"
      ]
     },
     "execution_count": 135,
     "metadata": {},
     "output_type": "execute_result"
    }
   ],
   "source": [
    "# 2014 datanerd crunchbase dataset. This is the dataset with funding rounds information.\n",
    "df_2014 = pd.read_csv(processed_data_dir + '/' + 'datanerd_cb_company.csv')\n",
    "df_2014.count()"
   ]
  },
  {
   "cell_type": "code",
   "execution_count": 136,
   "metadata": {},
   "outputs": [
    {
     "name": "stdout",
     "output_type": "stream",
     "text": [
      "6735\n",
      "permalink            6735\n",
      "name                 6735\n",
      "homepage_url         6711\n",
      "category_list        6706\n",
      "market               6706\n",
      "funding_total_usd    6735\n",
      "status               6588\n",
      "country_code         6241\n",
      "state_code           4351\n",
      "region               6241\n",
      "city                 6211\n",
      "funding_rounds       6735\n",
      "founded_at           6378\n",
      "founded_month        6375\n",
      "founded_quarter      6375\n",
      "founded_year         6375\n",
      "first_funding_at     6735\n",
      "last_funding_at      6735\n",
      "twitter_username     6735\n",
      "dtype: int64\n"
     ]
    }
   ],
   "source": [
    "# merge 2012 and 2014 datasets to get companies with funding rounds information and twitter accounts.\n",
    "companies_twit_username = companies_twit[['permalink', 'twitter_username']].copy()\n",
    "df_2014_new = df_2014.merge(companies_twit_username, on='permalink', )\n",
    "print(len(df_2014_new))\n",
    "print(df_2014_new.count())"
   ]
  },
  {
   "cell_type": "code",
   "execution_count": 137,
   "metadata": {},
   "outputs": [],
   "source": [
    "# save merged dataset.\n",
    "# df_2014_new.to_csv(processed_data_dir + '/' + 'merged_cb_company_2014_hastwitter.csv', index=False)\n",
    "df_2014_new = pd.read_csv(processed_data_dir + '/' + 'merged_cb_company_2014_hastwitter.csv')"
   ]
  },
  {
   "cell_type": "code",
   "execution_count": 138,
   "metadata": {},
   "outputs": [],
   "source": [
    "# convert funding timestamp format.\n",
    "df_2014_new['last_funding_at'] = pd.to_datetime(df_2014_new['last_funding_at'])\n",
    "df_2014_new['first_funding_at'] = pd.to_datetime(df_2014_new['first_funding_at'])"
   ]
  },
  {
   "cell_type": "code",
   "execution_count": 139,
   "metadata": {},
   "outputs": [
    {
     "name": "stdout",
     "output_type": "stream",
     "text": [
      "6735\n"
     ]
    },
    {
     "data": {
      "text/plain": [
       "<matplotlib.axes._subplots.AxesSubplot at 0x136b07fd0>"
      ]
     },
     "execution_count": 139,
     "metadata": {},
     "output_type": "execute_result"
    },
    {
     "data": {
      "image/png": "[encoded data removed]",
      "text/plain": [
       "<Figure size 432x288 with 1 Axes>"
      ]
     },
     "metadata": {
      "needs_background": "light"
     },
     "output_type": "display_data"
    }
   ],
   "source": [
    "# distribution of time period between two funding rounds.\n",
    "df_2014_new['days_since_last_funding'] = (df_2014_new.last_funding_at - df_2014_new.first_funding_at).dt.days\n",
    "print(df_2014_new.days_since_last_funding.count())\n",
    "df_2014_new.days_since_last_funding.hist(bins=100)"
   ]
  },
  {
   "cell_type": "code",
   "execution_count": 142,
   "metadata": {},
   "outputs": [
    {
     "name": "stdout",
     "output_type": "stream",
     "text": [
      "  twitter_username twit_since twit_until\n",
      "0          waywire 2011-07-01 2013-06-30\n",
      "1          100Plus 2010-11-02 2012-11-29\n",
      "2        15fiveinc 2011-01-01 2015-10-02\n",
      "3        1DayLater 2008-05-01 2010-10-01\n",
      "4           20x200 2008-10-01 2011-08-01\n"
     ]
    }
   ],
   "source": [
    "# set the start and end date for twitterscraper.\n",
    "\n",
    "# set the start date as 1 year before first funding.\n",
    "df_2014_new['twit_since'] = df_2014_new.first_funding_at - pd.to_timedelta('365 days')\n",
    "\n",
    "# set the end date as 1 year after last funding\n",
    "df_2014_new['twit_until'] = df_2014_new.last_funding_at + pd.to_timedelta('365 days')\n",
    "\n",
    "# save the twitter username, since_date, until_date\n",
    "print(df_2014_new[['twitter_username', 'twit_since', 'twit_until']].head())\n",
    "# df_2014_new[['twitter_username', 'twit_since', 'twit_until']].to_csv(processed_data_dir + '/' + 'company_2014_twitter_info.csv', index=False)"
   ]
  },
  {
   "cell_type": "code",
   "execution_count": 156,
   "metadata": {},
   "outputs": [
    {
     "name": "stdout",
     "output_type": "stream",
     "text": [
      "2012-03-17 19:53:06\n",
      "2013-06-29 23:30:02\n"
     ]
    }
   ],
   "source": [
    "# Analyze an example scraped tweets for a company.\n",
    "example_path = processed_data_dir + '/' + 'tweets/waywire.csv'\n",
    "df_example = pd.read_csv(example_path, delimiter=';')\n",
    "print(df_example.timestamp.min())\n",
    "print(df_example.timestamp.max())"
   ]
  }
 ],
 "metadata": {
  "kernelspec": {
   "display_name": "Py3",
   "language": "python",
   "name": "py3"
  },
  "language_info": {
   "codemirror_mode": {
    "name": "ipython",
    "version": 3
   },
   "file_extension": ".py",
   "mimetype": "text/x-python",
   "name": "python",
   "nbconvert_exporter": "python",
   "pygments_lexer": "ipython3",
   "version": "3.7.2"
  }
 },
 "nbformat": 4,
 "nbformat_minor": 2
}
