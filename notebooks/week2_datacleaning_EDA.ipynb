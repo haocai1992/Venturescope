{
 "cells": [
  {
   "cell_type": "code",
   "execution_count": 19,
   "metadata": {},
   "outputs": [],
   "source": [
    "import pandas as pd\n",
    "import matplotlib.pyplot as plt\n",
    "import sys  \n",
    "sys.path.append(\"/Users/caihao/PycharmProjects/insight_project/\")\n",
    "from data.config import raw_data_dir, processed_data_dir, cleaned_data_dir\n",
    "tweets_dir  = \"/Users/caihao/Dropbox/TEMP/tweets/\""
   ]
  },
  {
   "cell_type": "code",
   "execution_count": 20,
   "metadata": {},
   "outputs": [
    {
     "name": "stdout",
     "output_type": "stream",
     "text": [
      "name                   79109\n",
      "overview               60744\n",
      "description            46165\n",
      "category_code          57834\n",
      "permalink              79110\n",
      "crunchbase_url         79111\n",
      "homepage_url           61192\n",
      "blog_url               23653\n",
      "blog_feed_url          13462\n",
      "twitter_username       29786\n",
      "number_of_employees    33422\n",
      "founded_year           44927\n",
      "founded_month          29371\n",
      "founded_day            21061\n",
      "competitions           79111\n",
      "total_money_raised     79111\n",
      "funding_rounds         79111\n",
      "investments            79111\n",
      "acquisition             5604\n",
      "acquisitions           79111\n",
      "milestones             79111\n",
      "ipo                      629\n",
      "tag_list               40280\n",
      "dtype: int64\n",
      "name                   79111\n",
      "overview               79111\n",
      "description            79111\n",
      "category_code          79111\n",
      "permalink              79111\n",
      "crunchbase_url         79111\n",
      "homepage_url           79111\n",
      "blog_url               79111\n",
      "blog_feed_url          79111\n",
      "twitter_username       79111\n",
      "number_of_employees    79111\n",
      "founded_year           79111\n",
      "founded_month          79111\n",
      "founded_day            79111\n",
      "competitions           79111\n",
      "total_money_raised     79111\n",
      "funding_rounds         79111\n",
      "investments            79111\n",
      "acquisition            79111\n",
      "acquisitions           79111\n",
      "milestones             79111\n",
      "ipo                    79111\n",
      "tag_list               79111\n",
      "dtype: int64\n"
     ]
    }
   ],
   "source": [
    "# 2012 cmu_crunchbase dataset. This is the dataset used for finding Twitter names for companies.\n",
    "df_2012 = pd.read_csv(processed_data_dir + '/' + 'cmu_cb_company.csv')\n",
    "print(df_2012.count())\n",
    "print(df_2012.apply(len))"
   ]
  },
  {
   "cell_type": "markdown",
   "metadata": {},
   "source": [
    "There are a lot of missing data for column \"description\", \"blog_url\", \"twitter_username\" and \"acquisition\". Next I want to select company with Twitter accounts."
   ]
  },
  {
   "cell_type": "code",
   "execution_count": 21,
   "metadata": {},
   "outputs": [
    {
     "data": {
      "text/plain": [
       "name                   29786\n",
       "overview               28282\n",
       "description            27425\n",
       "category_code          28813\n",
       "permalink              29786\n",
       "crunchbase_url         29786\n",
       "homepage_url           29681\n",
       "blog_url               17437\n",
       "blog_feed_url           9632\n",
       "twitter_username       29786\n",
       "number_of_employees    21833\n",
       "founded_year           25379\n",
       "founded_month          19010\n",
       "founded_day            13479\n",
       "competitions           29786\n",
       "total_money_raised     29786\n",
       "funding_rounds         29786\n",
       "investments            29786\n",
       "acquisition              748\n",
       "acquisitions           29786\n",
       "milestones             29786\n",
       "ipo                       91\n",
       "tag_list               24917\n",
       "dtype: int64"
      ]
     },
     "execution_count": 21,
     "metadata": {},
     "output_type": "execute_result"
    }
   ],
   "source": [
    "# select companies with Twitter account.\n",
    "companies_twit = df_2012.loc[df_2012.twitter_username.notnull()].copy()\n",
    "companies_twit['permalink'] = '/organization/' + companies_twit['permalink']\n",
    "companies_twit.count()"
   ]
  },
  {
   "cell_type": "code",
   "execution_count": 70,
   "metadata": {},
   "outputs": [
    {
     "data": {
      "text/plain": [
       "permalink            49438\n",
       "name                 49437\n",
       "homepage_url         45984\n",
       "category_list        45477\n",
       "market               45470\n",
       "funding_total_usd    49438\n",
       "status               48124\n",
       "country_code         44165\n",
       "state_code           30161\n",
       "region               44165\n",
       "city                 43322\n",
       "funding_rounds       49438\n",
       "founded_at           38554\n",
       "founded_month        38482\n",
       "founded_quarter      38482\n",
       "founded_year         38482\n",
       "first_funding_at     49438\n",
       "last_funding_at      49438\n",
       "dtype: int64"
      ]
     },
     "execution_count": 70,
     "metadata": {},
     "output_type": "execute_result"
    }
   ],
   "source": [
    "# 2014 datanerd crunchbase dataset. This is the dataset with funding rounds information.\n",
    "df_2014 = pd.read_csv(processed_data_dir + '/' + 'datanerd_cb_company.csv')\n",
    "df_2014.count()"
   ]
  },
  {
   "cell_type": "code",
   "execution_count": 71,
   "metadata": {},
   "outputs": [
    {
     "name": "stdout",
     "output_type": "stream",
     "text": [
      "6735\n",
      "permalink            6735\n",
      "name                 6735\n",
      "homepage_url         6711\n",
      "category_list        6706\n",
      "market               6706\n",
      "funding_total_usd    6735\n",
      "status               6588\n",
      "country_code         6241\n",
      "state_code           4351\n",
      "region               6241\n",
      "city                 6211\n",
      "funding_rounds       6735\n",
      "founded_at           6378\n",
      "founded_month        6375\n",
      "founded_quarter      6375\n",
      "founded_year         6375\n",
      "first_funding_at     6735\n",
      "last_funding_at      6735\n",
      "twitter_username     6735\n",
      "dtype: int64\n"
     ]
    }
   ],
   "source": [
    "# merge 2012 and 2014 datasets to get companies with funding rounds information and twitter accounts.\n",
    "companies_twit_username = companies_twit[['permalink', 'twitter_username']].copy()\n",
    "df_2014_new = df_2014.merge(companies_twit_username, on='permalink', )\n",
    "print(len(df_2014_new))\n",
    "print(df_2014_new.count())"
   ]
  },
  {
   "cell_type": "code",
   "execution_count": 76,
   "metadata": {},
   "outputs": [
    {
     "name": "stdout",
     "output_type": "stream",
     "text": [
      "Index(['permalink', 'name', 'homepage_url', 'category_list', 'market',\n",
      "       'funding_total_usd', 'status', 'country_code', 'state_code', 'region',\n",
      "       'city', 'funding_rounds', 'founded_at', 'founded_month',\n",
      "       'founded_quarter', 'founded_year', 'first_funding_at',\n",
      "       'last_funding_at', 'twitter_username'],\n",
      "      dtype='object')\n"
     ]
    }
   ],
   "source": [
    "# save merged dataset.\n",
    "# df_2014_new.to_csv(processed_data_dir + '/' + 'merged_cb_company_2014_hastwitter.csv', index=False)\n",
    "df_2014_new = pd.read_csv(processed_data_dir + '/' + 'merged_cb_company_2014_hastwitter.csv')\n",
    "print(df_2014_new.columns)"
   ]
  },
  {
   "cell_type": "code",
   "execution_count": 77,
   "metadata": {},
   "outputs": [
    {
     "name": "stdout",
     "output_type": "stream",
     "text": [
      "Index(['permalink', 'name', 'homepage_url', 'category_list', 'market',\n",
      "       'funding_total_usd', 'status', 'country_code', 'state_code', 'region',\n",
      "       'city', 'funding_rounds', 'founded_at', 'founded_month',\n",
      "       'founded_quarter', 'founded_year', 'first_funding_at',\n",
      "       'last_funding_at', 'twitter_username'],\n",
      "      dtype='object')\n"
     ]
    }
   ],
   "source": [
    "# convert funding timestamp format.\n",
    "df_2014_new['last_funding_at'] = pd.to_datetime(df_2014_new['last_funding_at'])\n",
    "df_2014_new['first_funding_at'] = pd.to_datetime(df_2014_new['first_funding_at'])\n",
    "print(df_2014_new.columns)"
   ]
  },
  {
   "cell_type": "code",
   "execution_count": 79,
   "metadata": {},
   "outputs": [
    {
     "name": "stdout",
     "output_type": "stream",
     "text": [
      "6735\n"
     ]
    },
    {
     "data": {
      "image/png": "[encoded data removed]",
      "text/plain": [
       "<Figure size 432x288 with 1 Axes>"
      ]
     },
     "metadata": {
      "needs_background": "light"
     },
     "output_type": "display_data"
    }
   ],
   "source": [
    "# distribution of time period between two funding rounds.\n",
    "df_2014_new['first2last_funding_days'] = (df_2014_new.last_funding_at - df_2014_new.first_funding_at).dt.days\n",
    "print(df_2014_new.first2last_funding_days.count())\n",
    "df_2014_new.first2last_funding_days.hist(bins=100)\n",
    "plt.show()"
   ]
  },
  {
   "cell_type": "code",
   "execution_count": 80,
   "metadata": {},
   "outputs": [
    {
     "name": "stdout",
     "output_type": "stream",
     "text": [
      "  twitter_username twit_since twit_until\n",
      "0          waywire 2011-07-01 2013-06-30\n",
      "1          100Plus 2010-11-02 2012-11-29\n",
      "2        15fiveinc 2011-01-01 2015-10-02\n",
      "3        1DayLater 2008-05-01 2010-10-01\n",
      "4           20x200 2008-10-01 2011-08-01\n"
     ]
    }
   ],
   "source": [
    "# set the start and end date for twitterscraper.\n",
    "\n",
    "# set the start date as 1 year before first funding.\n",
    "df_2014_new['twit_since'] = df_2014_new.first_funding_at - pd.to_timedelta('365 days')\n",
    "\n",
    "# set the end date as 1 year after last funding\n",
    "df_2014_new['twit_until'] = df_2014_new.last_funding_at + pd.to_timedelta('365 days')\n",
    "\n",
    "# save the twitter username, since_date, until_date\n",
    "print(df_2014_new[['twitter_username', 'twit_since', 'twit_until']].head())\n",
    "# df_2014_new[['twitter_username', 'twit_since', 'twit_until']].to_csv(processed_data_dir + '/' + 'company_2014_twitter_info.csv', index=False)"
   ]
  },
  {
   "cell_type": "code",
   "execution_count": 94,
   "metadata": {},
   "outputs": [
    {
     "name": "stdout",
     "output_type": "stream",
     "text": [
      "738\n",
      "1    0.449864\n",
      "2    0.247967\n",
      "3    0.134146\n",
      "4    0.069106\n",
      "5    0.050136\n",
      "6    0.020325\n",
      "7    0.017615\n",
      "8    0.008130\n",
      "9    0.002710\n",
      "Name: funding_rounds, dtype: float64\n"
     ]
    }
   ],
   "source": [
    "# Find all companies that went through series B and also has scraped twitter data ready by now.\n",
    "import os\n",
    "x_series_companies = df_2014_new.loc[df_2014_new.funding_rounds>0].twitter_username.tolist()\n",
    "tweeted_companies = [s[:-4] for s in os.listdir(tweets_dir)]\n",
    "x_series_tweeted_companies = list(set(x_series_companies) & set(tweeted_companies))\n",
    "df_2014_series_x_tweeted = df_2014_new.loc[df_2014_new.twitter_username.isin(x_series_tweeted_companies)]\n",
    "# df_2014_series_x_tweeted.to_csv(processed_data_dir + '/companies_2014_series_all_tweeted.csv', index=False)\n",
    "print(len(df_2014_series_x_tweeted))\n",
    "print(df_2014_series_x_tweeted.head())\n",
    "# print(df_2014_series_x_tweeted.funding_rounds.value_counts(normalize=True))"
   ]
  },
  {
   "cell_type": "code",
   "execution_count": 58,
   "metadata": {},
   "outputs": [
    {
     "name": "stdout",
     "output_type": "stream",
     "text": [
      "671\n",
      "Index(['screen_name', 'username', 'user_id', 'tweet_id', 'tweet_url',\n",
      "       'timestamp', 'timestamp_epochs', 'text', 'text_html', 'links',\n",
      "       'hashtags', 'has_media', 'img_urls', 'video_url', 'likes', 'retweets',\n",
      "       'replies', 'is_replied', 'is_reply_to', 'parent_tweet_id',\n",
      "       'reply_to_users'],\n",
      "      dtype='object')\n",
      "  screen_name username  user_id            tweet_id  \\\n",
      "0     8tracks  8tracks  6632072  210068189474852864   \n",
      "1     8tracks  8tracks  6632072  208710961077567489   \n",
      "2     8tracks  8tracks  6632072  208281849645117442   \n",
      "3     8tracks  8tracks  6632072  208279345993744384   \n",
      "4     8tracks  8tracks  6632072  208058336145444865   \n",
      "\n",
      "                            tweet_url            timestamp  timestamp_epochs  \\\n",
      "0  /8tracks/status/210068189474852864  2012-06-05 17:58:53        1338919133   \n",
      "1  /8tracks/status/208710961077567489  2012-06-02 00:05:45        1338595545   \n",
      "2  /8tracks/status/208281849645117442  2012-05-31 19:40:37        1338493237   \n",
      "3  /8tracks/status/208279345993744384  2012-05-31 19:30:40        1338492640   \n",
      "4  /8tracks/status/208058336145444865  2012-05-31 04:52:27        1338439947   \n",
      "\n",
      "                                                text  \\\n",
      "0  Help welcome @FleetFoxesSing to 8tracks by che...   \n",
      "1  In honor of @SundanceChannel's new series, @Pu...   \n",
      "2  Who wants to answer a few questions about thei...   \n",
      "3                         @katiagodin Why thank you!   \n",
      "4  Hey All, It's database upgrade time. Playback ...   \n",
      "\n",
      "                                           text_html  \\\n",
      "0  <p class=\"TweetTextSize js-tweet-text tweet-te...   \n",
      "1  <p class=\"TweetTextSize js-tweet-text tweet-te...   \n",
      "2  <p class=\"TweetTextSize js-tweet-text tweet-te...   \n",
      "3  <p class=\"TweetTextSize js-tweet-text tweet-te...   \n",
      "4  <p class=\"TweetTextSize js-tweet-text tweet-te...   \n",
      "\n",
      "                                               links hashtags  has_media  \\\n",
      "0  ['http://8tracks.com/fleetfoxessing/fleet-foxe...       []      False   \n",
      "1                         ['http://8trx.com/LQaMim']       []      False   \n",
      "2                         ['http://8trx.com/Mcwina']       []      False   \n",
      "3                                                 []       []      False   \n",
      "4                                                 []       []      False   \n",
      "\n",
      "  img_urls  video_url  likes  retweets  replies  is_replied  is_reply_to  \\\n",
      "0       []        NaN      2         8        2        True        False   \n",
      "1       []        NaN      0         1        0       False        False   \n",
      "2       []        NaN      1         0        1        True        False   \n",
      "3       []        NaN      0         0        0       False         True   \n",
      "4       []        NaN      1         4        0       False        False   \n",
      "\n",
      "   parent_tweet_id                                     reply_to_users  \n",
      "0              NaN                                                 []  \n",
      "1              NaN                                                 []  \n",
      "2              NaN                                                 []  \n",
      "3     2.082788e+17  [{'screen_name': 'katiagodin', 'user_id': '104...  \n",
      "4              NaN                                                 []  \n"
     ]
    }
   ],
   "source": [
    "# For a company that went through series B and has twitter data, look at what the twitter data looks like.\n",
    "pd.set_option('display.max_columns', None)\n",
    "\n",
    "def a2b_time(twitter_username):\n",
    "    company_row = df_2014_new.loc[df_2014_new.twitter_username == twitter_username]\n",
    "    series_a_time = company_row.first_funding_at\n",
    "    series_b_time = company_row.last_funding_at\n",
    "    a2b_time = (series_b_time - series_a_time).dt.days.values[0]\n",
    "    return a2b_time\n",
    "    \n",
    "def tweets_stats(twitter_username):\n",
    "    tweet_file_path = tweets_dir + '/' + twitter_username + '.csv'\n",
    "    tweet_df = pd.read_csv(tweet_file_path, delimiter=';')\n",
    "    tweet_num = len(tweet_df)\n",
    "    return tweet_df\n",
    "\n",
    "print(a2b_time('8tracks'))\n",
    "print(tweets_stats('8tracks').columns)\n",
    "print(tweets_stats('8tracks').head())"
   ]
  }
 ],
 "metadata": {
  "kernelspec": {
   "display_name": "Py3",
   "language": "python",
   "name": "py3"
  },
  "language_info": {
   "codemirror_mode": {
    "name": "ipython",
    "version": 3
   },
   "file_extension": ".py",
   "mimetype": "text/x-python",
   "name": "python",
   "nbconvert_exporter": "python",
   "pygments_lexer": "ipython3",
   "version": "3.7.2"
  }
 },
 "nbformat": 4,
 "nbformat_minor": 2
}
