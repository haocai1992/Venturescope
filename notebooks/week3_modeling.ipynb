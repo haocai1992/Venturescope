{
 "cells": [
  {
   "cell_type": "code",
   "execution_count": 1,
   "metadata": {},
   "outputs": [],
   "source": [
    "import pandas as pd\n",
    "import matplotlib.pyplot as plt\n",
    "import warnings\n",
    "warnings.filterwarnings('ignore')\n",
    "import sys  \n",
    "sys.path.append(\"/Users/caihao/PycharmProjects/insight_project/\")\n",
    "from data.config import raw_data_dir, processed_data_dir, cleaned_data_dir\n",
    "tweets_dir  = \"/Users/caihao/Dropbox/TEMP/tweets/\""
   ]
  },
  {
   "cell_type": "code",
   "execution_count": 8,
   "metadata": {},
   "outputs": [
    {
     "name": "stdout",
     "output_type": "stream",
     "text": [
      "   country_feature  age_feature  days_since_first_funding  category_score  \\\n",
      "0                0       1953.0                      2070     1804.887064   \n",
      "1                1       2678.0                      1917     2430.877540   \n",
      "2                0       1644.0                      1735     1212.675016   \n",
      "3                0       1825.0                      1644        0.000000   \n",
      "4                0       1071.0                      1309     2062.537164   \n",
      "\n",
      "   market_score  postA_tweet_num  postA_tweet_freq  postA_tweet_avglength  \\\n",
      "0    256.914435              551          7.503891             113.822142   \n",
      "1    173.059769             3170         33.218563             115.986435   \n",
      "2    333.135955              294          1.599068             100.496599   \n",
      "3      0.000000              169          3.917219             126.597633   \n",
      "4    178.445148              280          5.384615              95.125000   \n",
      "\n",
      "   postA_tweet_content_richness  postA_tweet_interactiveness  \\\n",
      "0                      0.145191                     0.372051   \n",
      "1                      0.077287                     1.138486   \n",
      "2                      0.942177                     0.074830   \n",
      "3                      0.017751                     0.396450   \n",
      "4                      1.267857                     0.271429   \n",
      "\n",
      "   tweets_pos_topic_score  tweets_neg_topic_score  tweets_neg_sent_score  \\\n",
      "0                0.004485                0.005003                0.01728   \n",
      "1                0.010133                0.008741                0.05461   \n",
      "2                0.011637                0.009812                0.07246   \n",
      "3                0.003113                0.003051                0.00678   \n",
      "4                0.007328                0.005798                0.03649   \n",
      "\n",
      "   tweets_neu_sent_score  tweets_pos_sent_score  tweets_compound_sent_score  \\\n",
      "0                0.76394                0.21880                    0.320694   \n",
      "1                0.79380                0.15160                    0.140635   \n",
      "2                0.83459                0.09295                    0.042841   \n",
      "3                0.96489                0.02833                    0.043376   \n",
      "4                0.89121                0.06230                    0.046587   \n",
      "\n",
      "   WILL  \n",
      "0     1  \n",
      "1     1  \n",
      "2     1  \n",
      "3     0  \n",
      "4     0  \n",
      "(3847, 16) (3847,)\n"
     ]
    }
   ],
   "source": [
    "# test logistic regression model as baseline.\n",
    "df = pd.read_csv(processed_data_dir + '/companies_all_labeled_final.csv')\n",
    "# selected_features = ['funding_total_usd', 'all_tweet_num',\\\n",
    "#                      'preA_tweet_num', 'postA_tweet_num', 'preA_tweet_freq',\\\n",
    "#                      'postA_tweet_freq', 'preA_tweet_avglength', 'postA_tweet_avglength',\\\n",
    "#                      'preA_tweet_content_richness', 'postA_tweet_content_richness',\\\n",
    "#                      'preA_tweet_interactiveness', 'postA_tweet_interactiveness',\\\n",
    "#                      'status_feature', 'country_feature', 'age_feature',\\\n",
    "#                      'days_since_first_funding', 'tweet_num_change', 'tweet_freq_change',\\\n",
    "#                      'tweet_avglength_change', 'tweet_content_richness_change',\\\n",
    "#                      'tweet_interactiveness_change', 'category_score', 'market_score',\\\n",
    "#                      'tweets_pos_topic_score', 'tweets_neg_topic_score',\\\n",
    "#                      'tweets_neg_sent_score', 'tweets_neu_sent_score',\\\n",
    "#                      'tweets_pos_sent_score', 'tweets_compound_sent_score',\\\n",
    "#                      'WILL',]\n",
    "selected_features = ['country_feature', 'age_feature',\\\n",
    "                     'days_since_first_funding', 'category_score', 'market_score',\\\n",
    "                     'postA_tweet_num', 'postA_tweet_freq', 'postA_tweet_avglength',\\\n",
    "                     'postA_tweet_content_richness', 'postA_tweet_interactiveness',\\\n",
    "                     'tweets_pos_topic_score', 'tweets_neg_topic_score',\\\n",
    "                     'tweets_neg_sent_score', 'tweets_neu_sent_score',\\\n",
    "                     'tweets_pos_sent_score', 'tweets_compound_sent_score',\\\n",
    "                     'WILL',]\n",
    "\n",
    "new_df = df[selected_features].copy()\n",
    "print(new_df.head())\n",
    "X = new_df.iloc[:, :-1].values\n",
    "y = new_df.iloc[:, -1].values\n",
    "print(X.shape, y.shape)\n",
    "\n",
    "# new_df.to_csv(processed_data_dir + '/model_lr3_rf2_xgb2_data.csv', index=False)\n",
    "# Fix: update category_score to sklearn scores.\n",
    "new_category_score = pd.read_csv(processed_data_dir + '/companies_all_category_scores_sklearn.txt',\n",
    "                                 delimiter='\\s+', names=['new_category_score'], index_col=0)\n",
    "new_df['category_score'] = new_category_score['new_category_score']\n",
    "# new_df.to_csv(processed_data_dir + '/model_lr3_rf2_xgb2_data1.csv', index=False)"
   ]
  },
  {
   "cell_type": "code",
   "execution_count": 18,
   "metadata": {},
   "outputs": [
    {
     "data": {
      "text/plain": [
       "(-0.07100000000000001, 7.0]    3750\n",
       "(7.0, 14.0]                      50\n",
       "(14.0, 21.0]                     24\n",
       "(21.0, 28.0]                      5\n",
       "(42.0, 49.0]                      4\n",
       "(63.0, 70.0]                      3\n",
       "(35.0, 42.0]                      3\n",
       "(28.0, 35.0]                      3\n",
       "(56.0, 63.0]                      0\n",
       "(49.0, 56.0]                      0\n",
       "Name: postA_tweet_interactiveness, dtype: int64"
      ]
     },
     "execution_count": 18,
     "metadata": {},
     "output_type": "execute_result"
    }
   ],
   "source": [
    "import seaborn as sns\n",
    "\n",
    "new_df[new_df.postA_tweet_interactiveness<100].postA_tweet_interactiveness.value_counts(bins=10)"
   ]
  },
  {
   "cell_type": "code",
   "execution_count": 5,
   "metadata": {},
   "outputs": [
    {
     "data": {
      "text/plain": [
       "array([[<matplotlib.axes._subplots.AxesSubplot object at 0x10ba72da0>,\n",
       "        <matplotlib.axes._subplots.AxesSubplot object at 0x11c9b9b70>,\n",
       "        <matplotlib.axes._subplots.AxesSubplot object at 0x11cb3a128>,\n",
       "        <matplotlib.axes._subplots.AxesSubplot object at 0x11cb5f6a0>],\n",
       "       [<matplotlib.axes._subplots.AxesSubplot object at 0x11cb87c18>,\n",
       "        <matplotlib.axes._subplots.AxesSubplot object at 0x11d8ca1d0>,\n",
       "        <matplotlib.axes._subplots.AxesSubplot object at 0x11d8f0748>,\n",
       "        <matplotlib.axes._subplots.AxesSubplot object at 0x11d918cf8>],\n",
       "       [<matplotlib.axes._subplots.AxesSubplot object at 0x11d918d30>,\n",
       "        <matplotlib.axes._subplots.AxesSubplot object at 0x11d96e7f0>,\n",
       "        <matplotlib.axes._subplots.AxesSubplot object at 0x11d998d68>,\n",
       "        <matplotlib.axes._subplots.AxesSubplot object at 0x11d9c7320>],\n",
       "       [<matplotlib.axes._subplots.AxesSubplot object at 0x11d9ef898>,\n",
       "        <matplotlib.axes._subplots.AxesSubplot object at 0x11da15e10>,\n",
       "        <matplotlib.axes._subplots.AxesSubplot object at 0x11da463c8>,\n",
       "        <matplotlib.axes._subplots.AxesSubplot object at 0x11da6c940>],\n",
       "       [<matplotlib.axes._subplots.AxesSubplot object at 0x11da94eb8>,\n",
       "        <matplotlib.axes._subplots.AxesSubplot object at 0x11dac6470>,\n",
       "        <matplotlib.axes._subplots.AxesSubplot object at 0x11daec9e8>,\n",
       "        <matplotlib.axes._subplots.AxesSubplot object at 0x11db14f60>]],\n",
       "      dtype=object)"
      ]
     },
     "execution_count": 5,
     "metadata": {},
     "output_type": "execute_result"
    },
    {
     "data": {
      "image/png": "[encoded data removed]",
      "text/plain": [
       "<Figure size 1080x1080 with 20 Axes>"
      ]
     },
     "metadata": {
      "needs_background": "light"
     },
     "output_type": "display_data"
    }
   ],
   "source": [
    "new_df.hist(bins=25, figsize=(15,15))"
   ]
  },
  {
   "cell_type": "code",
   "execution_count": 60,
   "metadata": {},
   "outputs": [
    {
     "name": "stdout",
     "output_type": "stream",
     "text": [
      "interactiveness 2.0397404041896086\n",
      "pos_topic_score 0.009812695518409409\n",
      "neg_topic_score 0.010592360944776448\n",
      "neg_sent_score 0.021841279446969068\n",
      "neu_sent_score 0.812420437686509\n",
      "pos_sent_score 0.15154393868437746\n",
      "compound_sent_score 0.18161318764872886\n"
     ]
    }
   ],
   "source": [
    "import seaborn as sns\n",
    "\n",
    "# get mean values for backend inference.\n",
    "print('interactiveness', new_df.postA_tweet_interactiveness.mean())\n",
    "print('pos_topic_score', new_df.tweets_pos_topic_score.mean())\n",
    "print('neg_topic_score', new_df.tweets_neg_topic_score.mean())\n",
    "print('neg_sent_score', new_df.tweets_neg_sent_score.mean())\n",
    "print('neu_sent_score', new_df.tweets_neu_sent_score.mean())\n",
    "print('pos_sent_score', new_df.tweets_pos_sent_score.mean())\n",
    "print('compound_sent_score', new_df.tweets_compound_sent_score.mean())\n",
    "\n",
    "# sns.boxplot(x='WILL', y='postA_tweet_interactiveness', data=new_df)\n",
    "# sns.scatterplot(x='postA_tweet_num', y='postA_tweet_freq', data=new_df)"
   ]
  },
  {
   "cell_type": "code",
   "execution_count": 38,
   "metadata": {},
   "outputs": [
    {
     "name": "stdout",
     "output_type": "stream",
     "text": [
      "0.003925651055633885\n"
     ]
    }
   ],
   "source": [
    "# we see that 'postA_tweet_num' and 'postA_tweet_freq' has positive correlation. Here I want to do linear regression\\\n",
    "# to get a slope to use in my back-end application.\n",
    "from scipy.stats import linregress\n",
    "\n",
    "x_ = new_df['postA_tweet_num']\n",
    "y_ = new_df['postA_tweet_freq']\n",
    "\n",
    "slope, intercept, r_value, p_value, std_err = linregress(x_, y_)\n",
    "print(slope)"
   ]
  },
  {
   "cell_type": "code",
   "execution_count": 6,
   "metadata": {
    "scrolled": true
   },
   "outputs": [
    {
     "data": {
      "text/plain": [
       "LogisticRegressionCV(Cs=[1e-10, 1e-09, 1e-08, 1e-07, 1e-06, 1e-05, 0.0001,\n",
       "                         0.001, 0.01, 0.1, 1.0, 10.0, 100.0, 1000.0, 10000.0,\n",
       "                         100000.0, 1000000.0, 10000000.0, 100000000.0,\n",
       "                         1000000000.0],\n",
       "                     class_weight=None, cv=5, dual=False, fit_intercept=True,\n",
       "                     intercept_scaling=1.0, l1_ratios=None, max_iter=10000,\n",
       "                     multi_class='auto', n_jobs=None, penalty='l2',\n",
       "                     random_state=777, refit=True, scoring='roc_auc',\n",
       "                     solver='newton-cg', tol=10, verbose=0)"
      ]
     },
     "execution_count": 6,
     "metadata": {},
     "output_type": "execute_result"
    }
   ],
   "source": [
    "from sklearn.linear_model import LogisticRegressionCV\n",
    "import numpy as np\n",
    "\n",
    "# logistic regression with cross-validation.\n",
    "# clf = LogisticRegressionCV(cv=5, random_state=0, multi_class='multinomial').fit(X, y)\n",
    "clf = LogisticRegressionCV(\n",
    "        Cs=list(np.power(10.0, np.arange(-10, 10)))\n",
    "        ,penalty='l2'\n",
    "        ,scoring='roc_auc'\n",
    "        ,cv=5\n",
    "        ,random_state=777\n",
    "        ,max_iter=10000\n",
    "        ,fit_intercept=True\n",
    "        ,solver='newton-cg'\n",
    "        ,tol=10\n",
    "    )\n",
    "clf.fit(X, y)\n"
   ]
  },
  {
   "cell_type": "code",
   "execution_count": 7,
   "metadata": {},
   "outputs": [
    {
     "name": "stdout",
     "output_type": "stream",
     "text": [
      "country_feature                   0.274811\n",
      "age_feature                       0.016197\n",
      "days_since_first_funding          0.167692\n",
      "category_score                    0.113717\n",
      "market_score                      0.070885\n",
      "postA_tweet_num                 220.056659\n",
      "postA_tweet_freq                -54.535614\n",
      "postA_tweet_avglength            -0.050234\n",
      "postA_tweet_content_richness      0.129746\n",
      "postA_tweet_interactiveness       1.146147\n",
      "tweets_pos_topic_score            0.000045\n",
      "tweets_neg_topic_score           -0.000130\n",
      "tweets_neg_sent_score            -0.000288\n",
      "tweets_neu_sent_score             0.017456\n",
      "tweets_pos_sent_score            -0.004748\n",
      "tweets_compound_sent_score       -0.005960\n",
      "dtype: float64\n"
     ]
    }
   ],
   "source": [
    "# look at important features.\n",
    "print(pd.Series((np.std(X, 0)*clf.coef_)[0, :], index=selected_features[:-1]))"
   ]
  },
  {
   "cell_type": "code",
   "execution_count": 9,
   "metadata": {},
   "outputs": [
    {
     "name": "stdout",
     "output_type": "stream",
     "text": [
      "[1 1 1 ... 0 1 1]\n"
     ]
    }
   ],
   "source": [
    "# save trained model.\n",
    "import pickle\n",
    "processed_data_dir = '/Users/caihao/Dropbox/Insight_Jan2020/data/processed'\n",
    "# with open(processed_data_dir + '/model_logreg_3.pkl', 'wb') as f:\n",
    "#     pickle.dump(clf, f)\n",
    "\n",
    "new_clf = pickle.load(open(processed_data_dir + '/model_logreg_3.pkl', 'rb'))\n",
    "print(new_clf.predict(X))"
   ]
  },
  {
   "cell_type": "code",
   "execution_count": 10,
   "metadata": {
    "scrolled": true
   },
   "outputs": [
    {
     "name": "stdout",
     "output_type": "stream",
     "text": [
      "Best Penalty:  l2\n",
      "Best C:  59.94842503189409\n"
     ]
    }
   ],
   "source": [
    "# Grid search for logistic model.\n",
    "import warnings\n",
    "warnings.filterwarnings('ignore')\n",
    "from sklearn.model_selection import train_test_split, KFold, RandomizedSearchCV, GridSearchCV\n",
    "from sklearn.linear_model import LogisticRegression\n",
    "\n",
    "logistic = LogisticRegression()\n",
    "\n",
    "penalty = ['l1', 'l2']\n",
    "C = np.logspace(0, 4, 10)\n",
    "\n",
    "hyperparameters = dict(C=C, penalty=penalty)\n",
    "clf = GridSearchCV(logistic, hyperparameters, cv=5, verbose=0)\n",
    "best_model = clf.fit(X, y)\n",
    "\n",
    "print('Best Penalty: ', best_model.best_estimator_.get_params()['penalty'])\n",
    "print('Best C: ', best_model.best_estimator_.get_params()['C'])"
   ]
  },
  {
   "cell_type": "code",
   "execution_count": 11,
   "metadata": {},
   "outputs": [
    {
     "name": "stdout",
     "output_type": "stream",
     "text": [
      "Accuracy:  0.9214986573894246\n"
     ]
    }
   ],
   "source": [
    "# The above code finds the values for Best penalty as ‘xxx’ and best C is ‘xxx’.\n",
    "# Now let’s use these values and calculate the accuracy.\n",
    "from sklearn.model_selection import KFold\n",
    "from sklearn.model_selection import cross_val_score\n",
    "from sklearn.metrics import SCORERS\n",
    "\n",
    "# all scoring metrics\n",
    "# print(sorted(SCORERS.keys()))\n",
    "\n",
    "# cross-validation.\n",
    "kfold = KFold(n_splits=5, random_state=7)\n",
    "model = LogisticRegression(C=1, penalty='l2')\n",
    "result = cross_val_score(model, X, y, cv=kfold, scoring='accuracy')\n",
    "print(\"Accuracy: \", result.mean())"
   ]
  },
  {
   "cell_type": "code",
   "execution_count": 18,
   "metadata": {},
   "outputs": [
    {
     "name": "stdout",
     "output_type": "stream",
     "text": [
      "Accuracy:  0.8432900432900433\n",
      "OOB score:  0.8205794947994056\n",
      "country_feature                 0.037057\n",
      "age_feature                     0.032237\n",
      "days_since_first_funding        0.112730\n",
      "category_score                  0.008287\n",
      "market_score                    0.007865\n",
      "postA_tweet_num                 0.266924\n",
      "postA_tweet_freq                0.077630\n",
      "postA_tweet_avglength           0.016063\n",
      "postA_tweet_content_richness    0.068879\n",
      "postA_tweet_interactiveness     0.095758\n",
      "tweets_pos_topic_score          0.160488\n",
      "tweets_neg_topic_score          0.078376\n",
      "tweets_neg_sent_score           0.012471\n",
      "tweets_neu_sent_score           0.011336\n",
      "tweets_pos_sent_score           0.008250\n",
      "tweets_compound_sent_score      0.005648\n",
      "dtype: float64\n"
     ]
    }
   ],
   "source": [
    "# Random forest model.\n",
    "from sklearn.ensemble import RandomForestClassifier\n",
    "from sklearn.model_selection import train_test_split  \n",
    "\n",
    "X_train, X_test, y_train, y_test = train_test_split(X, y, test_size=0.3, random_state=10)\n",
    "\n",
    "# Create the model with 100 trees\n",
    "clf = RandomForestClassifier(max_depth=5, n_estimators=20, random_state=7, oob_score=True)\n",
    "clf.fit(X_train, y_train)\n",
    "\n",
    "# Accuracy\n",
    "print(\"Accuracy: \", clf.score(X_test, y_test))\n",
    "print(\"OOB score: \", clf.oob_score_)\n",
    "\n",
    "# feature importances.\n",
    "print(pd.Series(clf.feature_importances_, index=selected_features[:-1]))"
   ]
  },
  {
   "cell_type": "code",
   "execution_count": 19,
   "metadata": {},
   "outputs": [
    {
     "name": "stdout",
     "output_type": "stream",
     "text": [
      "[0 0 1 ... 0 1 0]\n"
     ]
    }
   ],
   "source": [
    "# save trained model.\n",
    "import pickle\n",
    "processed_data_dir = '/Users/caihao/Dropbox/Insight_Jan2020/data/processed'\n",
    "# with open(processed_data_dir + '/model_rf_2.pkl', 'wb') as f:\n",
    "#     pickle.dump(clf, f)\n",
    "\n",
    "new_clf = pickle.load(open(processed_data_dir + '/model_rf_2.pkl', 'rb'))\n",
    "print(new_clf.predict(X_test))"
   ]
  },
  {
   "cell_type": "code",
   "execution_count": 21,
   "metadata": {},
   "outputs": [
    {
     "name": "stdout",
     "output_type": "stream",
     "text": [
      "Learning rate:  0.05\n",
      "Accuracy score (training): 0.692\n",
      "Accuracy score (validation): 0.694\n",
      "\n",
      "Learning rate:  0.1\n",
      "Accuracy score (training): 0.787\n",
      "Accuracy score (validation): 0.762\n",
      "\n",
      "Learning rate:  0.25\n",
      "Accuracy score (training): 0.838\n",
      "Accuracy score (validation): 0.786\n",
      "\n",
      "Learning rate:  0.5\n",
      "Accuracy score (training): 0.858\n",
      "Accuracy score (validation): 0.793\n",
      "\n",
      "Learning rate:  0.75\n",
      "Accuracy score (training): 0.880\n",
      "Accuracy score (validation): 0.819\n",
      "\n",
      "Learning rate:  1\n",
      "Accuracy score (training): 0.880\n",
      "Accuracy score (validation): 0.820\n",
      "\n",
      "Learning rate:  2\n",
      "Accuracy score (training): 0.840\n",
      "Accuracy score (validation): 0.792\n",
      "\n",
      "Learning rate:  5\n",
      "Accuracy score (training): 0.586\n",
      "Accuracy score (validation): 0.609\n",
      "\n",
      "Learning rate:  10\n",
      "Accuracy score (training): 0.672\n",
      "Accuracy score (validation): 0.651\n",
      "\n",
      "Confusion Matrix:\n",
      "[[206  59]\n",
      " [ 62 346]]\n",
      "\n",
      "Classification Report\n",
      "              precision    recall  f1-score   support\n",
      "\n",
      "           0       0.77      0.78      0.77       265\n",
      "           1       0.85      0.85      0.85       408\n",
      "\n",
      "    accuracy                           0.82       673\n",
      "   macro avg       0.81      0.81      0.81       673\n",
      "weighted avg       0.82      0.82      0.82       673\n",
      "\n",
      "Area under ROC curve = 0.90\n",
      "country_feature                 0.019560\n",
      "age_feature                     0.028522\n",
      "days_since_first_funding        0.119099\n",
      "category_score                  0.013389\n",
      "market_score                    0.003769\n",
      "postA_tweet_num                 0.171970\n",
      "postA_tweet_freq                0.072347\n",
      "postA_tweet_avglength           0.026811\n",
      "postA_tweet_content_richness    0.028863\n",
      "postA_tweet_interactiveness     0.153442\n",
      "tweets_pos_topic_score          0.157097\n",
      "tweets_neg_topic_score          0.115053\n",
      "tweets_neg_sent_score           0.006199\n",
      "tweets_neu_sent_score           0.019196\n",
      "tweets_pos_sent_score           0.041370\n",
      "tweets_compound_sent_score      0.023312\n",
      "dtype: float64\n"
     ]
    }
   ],
   "source": [
    "# XGBoost model.\n",
    "from sklearn.preprocessing import MinMaxScaler\n",
    "from sklearn.ensemble import GradientBoostingClassifier\n",
    "from sklearn.metrics import classification_report, confusion_matrix, roc_curve, auc\n",
    "scaler = MinMaxScaler()\n",
    "X_train_scale = scaler.fit_transform(X_train)\n",
    "X_test_scale = scaler.transform(X_test)\n",
    "\n",
    "# split training feature and target sets into training and validation subsets\n",
    "from sklearn.model_selection import train_test_split\n",
    "X_train_sub, X_validation_sub, y_train_sub, y_validation_sub = train_test_split(X_train_scale, y_train, random_state=0)\n",
    "\n",
    "# import machine learning algorithms\n",
    "from sklearn.ensemble import GradientBoostingClassifier\n",
    "from sklearn.metrics import classification_report, confusion_matrix, roc_curve, auc\n",
    "\n",
    "# train with Gradient Boosting algorithm\n",
    "# compute the accuracy scores on train and validation sets when training with different learning rates\n",
    "\n",
    "learning_rates = [0.05, 0.1, 0.25, 0.5, 0.75, 1, 2, 5, 10]\n",
    "for learning_rate in learning_rates:\n",
    "    gb = GradientBoostingClassifier(n_estimators=20, learning_rate = learning_rate, max_features=2, max_depth = 2, random_state = 0)\n",
    "    gb.fit(X_train_sub, y_train_sub)\n",
    "    print(\"Learning rate: \", learning_rate)\n",
    "    print(\"Accuracy score (training): {0:.3f}\".format(gb.score(X_train_sub, y_train_sub)))\n",
    "    print(\"Accuracy score (validation): {0:.3f}\".format(gb.score(X_validation_sub, y_validation_sub)))\n",
    "    print()\n",
    "    \n",
    "# Output confusion matrix and classification report of Gradient Boosting algorithm on validation set\n",
    "gb = GradientBoostingClassifier(n_estimators=20, learning_rate = 1.0, max_features=2, max_depth = 2, random_state = 0)\n",
    "gb.fit(X_train_sub, y_train_sub)\n",
    "predictions = gb.predict(X_validation_sub)\n",
    "print(\"Confusion Matrix:\")\n",
    "print(confusion_matrix(y_validation_sub, predictions))\n",
    "print()\n",
    "print(\"Classification Report\")\n",
    "print(classification_report(y_validation_sub, predictions))\n",
    "\n",
    "# ROC curve and Area-Under-Curve (AUC)\n",
    "y_scores_gb = gb.decision_function(X_validation_sub)\n",
    "fpr_gb, tpr_gb, _ = roc_curve(y_validation_sub, y_scores_gb)\n",
    "roc_auc_gb = auc(fpr_gb, tpr_gb)\n",
    "\n",
    "print(\"Area under ROC curve = {:0.2f}\".format(roc_auc_gb))\n",
    "\n",
    "# feature importances.\n",
    "print(pd.Series(gb.feature_importances_, index=selected_features[:-1]))"
   ]
  },
  {
   "cell_type": "code",
   "execution_count": 24,
   "metadata": {},
   "outputs": [
    {
     "name": "stdout",
     "output_type": "stream",
     "text": [
      "[[0.68274308 0.31725692]\n",
      " [0.67070793 0.32929207]\n",
      " [0.45737244 0.54262756]\n",
      " ...\n",
      " [0.63624737 0.36375263]\n",
      " [0.17687136 0.82312864]\n",
      " [0.56958127 0.43041873]]\n"
     ]
    }
   ],
   "source": [
    "# save trained model.\n",
    "import pickle\n",
    "processed_data_dir = '/Users/caihao/Dropbox/Insight_Jan2020/data/processed'\n",
    "# with open(processed_data_dir + '/model_xgb_2.pkl', 'wb') as f:\n",
    "#     pickle.dump(clf, f)\n",
    "\n",
    "new_clf = pickle.load(open(processed_data_dir + '/model_xgb_2.pkl', 'rb'))\n",
    "print(new_clf.predict_proba(X_test))"
   ]
  },
  {
   "cell_type": "code",
   "execution_count": 23,
   "metadata": {},
   "outputs": [
    {
     "data": {
      "text/plain": [
       "(1155, 16)"
      ]
     },
     "execution_count": 23,
     "metadata": {},
     "output_type": "execute_result"
    }
   ],
   "source": [
    "# save data.\n",
    "X_test.shape"
   ]
  }
 ],
 "metadata": {
  "kernelspec": {
   "display_name": "Py3",
   "language": "python",
   "name": "py3"
  },
  "language_info": {
   "codemirror_mode": {
    "name": "ipython",
    "version": 3
   },
   "file_extension": ".py",
   "mimetype": "text/x-python",
   "name": "python",
   "nbconvert_exporter": "python",
   "pygments_lexer": "ipython3",
   "version": "3.7.2"
  }
 },
 "nbformat": 4,
 "nbformat_minor": 2
}
