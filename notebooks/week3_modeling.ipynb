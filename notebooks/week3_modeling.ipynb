{
 "cells": [
  {
   "cell_type": "code",
   "execution_count": 32,
   "metadata": {},
   "outputs": [],
   "source": [
    "import pandas as pd\n",
    "import matplotlib.pyplot as plt\n",
    "import warnings\n",
    "warnings.filterwarnings('ignore')\n",
    "import sys  \n",
    "sys.path.append(\"/Users/caihao/PycharmProjects/insight_project/\")\n",
    "from data.config import raw_data_dir, processed_data_dir, cleaned_data_dir\n",
    "tweets_dir  = \"/Users/caihao/Dropbox/TEMP/tweets/\""
   ]
  },
  {
   "cell_type": "code",
   "execution_count": 33,
   "metadata": {},
   "outputs": [
    {
     "name": "stdout",
     "output_type": "stream",
     "text": [
      "   funding_total_usd  all_tweet_num  preA_tweet_num  postA_tweet_num  \\\n",
      "0              43811            551               0              551   \n",
      "1            2800000           3473             303             3170   \n",
      "2             383000            294               0              294   \n",
      "3              33457            199              30              169   \n",
      "4              80000           8792            8512              280   \n",
      "\n",
      "   preA_tweet_freq  postA_tweet_freq  preA_tweet_avglength  \\\n",
      "0         0.000000          7.503891              0.000000   \n",
      "1         5.810959         33.218563            108.669967   \n",
      "2         0.000000          1.599068              0.000000   \n",
      "3         6.000000          3.917219             86.000000   \n",
      "4       163.692308          5.384615             87.731555   \n",
      "\n",
      "   postA_tweet_avglength  preA_tweet_content_richness  \\\n",
      "0             113.822142                     0.000000   \n",
      "1             115.986435                     0.019802   \n",
      "2             100.496599                     0.000000   \n",
      "3             126.597633                     0.000000   \n",
      "4              95.125000                     0.102561   \n",
      "\n",
      "   postA_tweet_content_richness  ...  tweet_interactiveness_change  \\\n",
      "0                      0.145191  ...                      0.372051   \n",
      "1                      0.077287  ...                      0.917364   \n",
      "2                      0.942177  ...                      0.074830   \n",
      "3                      0.017751  ...                     -0.203550   \n",
      "4                      1.267857  ...                      0.151833   \n",
      "\n",
      "   category_score  market_score  tweets_pos_topic_score  \\\n",
      "0     1804.887064    256.914435                0.004485   \n",
      "1     2430.877540    173.059769                0.010133   \n",
      "2     1212.675016    333.135955                0.011637   \n",
      "3        0.000000      0.000000                0.003113   \n",
      "4     2062.537164    178.445148                0.007328   \n",
      "\n",
      "   tweets_neg_topic_score  tweets_neg_sent_score  tweets_neu_sent_score  \\\n",
      "0                0.005003                0.01728                0.76394   \n",
      "1                0.008741                0.05461                0.79380   \n",
      "2                0.009812                0.07246                0.83459   \n",
      "3                0.003051                0.00678                0.96489   \n",
      "4                0.005798                0.03649                0.89121   \n",
      "\n",
      "   tweets_pos_sent_score  tweets_compound_sent_score  WILL  \n",
      "0                0.21880                    0.320694     1  \n",
      "1                0.15160                    0.140635     1  \n",
      "2                0.09295                    0.042841     1  \n",
      "3                0.02833                    0.043376     0  \n",
      "4                0.06230                    0.046587     0  \n",
      "\n",
      "[5 rows x 30 columns]\n",
      "(3847, 29) (3847,)\n"
     ]
    }
   ],
   "source": [
    "# test logistic regression model as baseline.\n",
    "df = pd.read_csv(processed_data_dir + '/companies_all_labeled_final.csv')\n",
    "selected_features = ['funding_total_usd', 'all_tweet_num',\\\n",
    "                     'preA_tweet_num', 'postA_tweet_num', 'preA_tweet_freq',\\\n",
    "                     'postA_tweet_freq', 'preA_tweet_avglength', 'postA_tweet_avglength',\\\n",
    "                     'preA_tweet_content_richness', 'postA_tweet_content_richness',\\\n",
    "                     'preA_tweet_interactiveness', 'postA_tweet_interactiveness',\\\n",
    "                     'status_feature', 'country_feature', 'age_feature',\\\n",
    "                     'days_since_first_funding', 'tweet_num_change', 'tweet_freq_change',\\\n",
    "                     'tweet_avglength_change', 'tweet_content_richness_change',\\\n",
    "                     'tweet_interactiveness_change', 'category_score', 'market_score',\\\n",
    "                     'tweets_pos_topic_score', 'tweets_neg_topic_score',\\\n",
    "                     'tweets_neg_sent_score', 'tweets_neu_sent_score',\\\n",
    "                     'tweets_pos_sent_score', 'tweets_compound_sent_score',\\\n",
    "                     'WILL',]\n",
    "# selected_features = ['funding_total_usd', 'status_feature', 'country_feature', 'age_feature',\\\n",
    "#                      'days_since_first_funding', 'category_score', 'market_score',\\\n",
    "#                      'postA_tweet_num',\\\n",
    "#                      'postA_tweet_freq', 'postA_tweet_avglength',\\\n",
    "#                      'postA_tweet_content_richness',\\\n",
    "#                      'postA_tweet_interactiveness',\\\n",
    "#                      'tweets_pos_topic_score', 'tweets_neg_topic_score',\\\n",
    "#                      'tweets_neg_sent_score', 'tweets_neu_sent_score',\\\n",
    "#                      'tweets_pos_sent_score', 'tweets_compound_sent_score',\\\n",
    "#                      'WILL',]\n",
    "\n",
    "new_df = df[selected_features].copy()\n",
    "print(new_df.head())\n",
    "X = new_df.iloc[:, :-1].values\n",
    "y = new_df.iloc[:, -1].values\n",
    "print(X.shape, y.shape)"
   ]
  },
  {
   "cell_type": "code",
   "execution_count": 34,
   "metadata": {},
   "outputs": [
    {
     "data": {
      "text/plain": [
       "array([[<matplotlib.axes._subplots.AxesSubplot object at 0x1a2f49b2e8>,\n",
       "        <matplotlib.axes._subplots.AxesSubplot object at 0x1a26f2f5f8>,\n",
       "        <matplotlib.axes._subplots.AxesSubplot object at 0x1a26f3f860>,\n",
       "        <matplotlib.axes._subplots.AxesSubplot object at 0x1a30879cf8>,\n",
       "        <matplotlib.axes._subplots.AxesSubplot object at 0x1a2685ae80>],\n",
       "       [<matplotlib.axes._subplots.AxesSubplot object at 0x1a26881828>,\n",
       "        <matplotlib.axes._subplots.AxesSubplot object at 0x123932cc0>,\n",
       "        <matplotlib.axes._subplots.AxesSubplot object at 0x1238df2b0>,\n",
       "        <matplotlib.axes._subplots.AxesSubplot object at 0x1238df2e8>,\n",
       "        <matplotlib.axes._subplots.AxesSubplot object at 0x1a26affd68>],\n",
       "       [<matplotlib.axes._subplots.AxesSubplot object at 0x1a261b6320>,\n",
       "        <matplotlib.axes._subplots.AxesSubplot object at 0x1a268d7898>,\n",
       "        <matplotlib.axes._subplots.AxesSubplot object at 0x1a268ebe10>,\n",
       "        <matplotlib.axes._subplots.AxesSubplot object at 0x12325e3c8>,\n",
       "        <matplotlib.axes._subplots.AxesSubplot object at 0x1a2f708e48>],\n",
       "       [<matplotlib.axes._subplots.AxesSubplot object at 0x1a2fb18400>,\n",
       "        <matplotlib.axes._subplots.AxesSubplot object at 0x1a2fb40978>,\n",
       "        <matplotlib.axes._subplots.AxesSubplot object at 0x1a27d27ef0>,\n",
       "        <matplotlib.axes._subplots.AxesSubplot object at 0x1233594a8>,\n",
       "        <matplotlib.axes._subplots.AxesSubplot object at 0x123381a20>],\n",
       "       [<matplotlib.axes._subplots.AxesSubplot object at 0x1a26d01f98>,\n",
       "        <matplotlib.axes._subplots.AxesSubplot object at 0x1a26d33550>,\n",
       "        <matplotlib.axes._subplots.AxesSubplot object at 0x1a26d57ac8>,\n",
       "        <matplotlib.axes._subplots.AxesSubplot object at 0x1a26d8a080>,\n",
       "        <matplotlib.axes._subplots.AxesSubplot object at 0x1a302af5f8>],\n",
       "       [<matplotlib.axes._subplots.AxesSubplot object at 0x1a302d7b70>,\n",
       "        <matplotlib.axes._subplots.AxesSubplot object at 0x1a30308128>,\n",
       "        <matplotlib.axes._subplots.AxesSubplot object at 0x1a303316a0>,\n",
       "        <matplotlib.axes._subplots.AxesSubplot object at 0x1a30358c18>,\n",
       "        <matplotlib.axes._subplots.AxesSubplot object at 0x1a3038a1d0>]],\n",
       "      dtype=object)"
      ]
     },
     "execution_count": 34,
     "metadata": {},
     "output_type": "execute_result"
    },
    {
     "data": {
      "image/png": "[encoded data removed]",
      "text/plain": [
       "<Figure size 1080x1080 with 30 Axes>"
      ]
     },
     "metadata": {
      "needs_background": "light"
     },
     "output_type": "display_data"
    }
   ],
   "source": [
    "new_df.hist(bins=25, figsize=(15,15))"
   ]
  },
  {
   "cell_type": "code",
   "execution_count": 35,
   "metadata": {
    "scrolled": true
   },
   "outputs": [
    {
     "data": {
      "text/plain": [
       "LogisticRegressionCV(Cs=[1e-10, 1e-09, 1e-08, 1e-07, 1e-06, 1e-05, 0.0001,\n",
       "                         0.001, 0.01, 0.1, 1.0, 10.0, 100.0, 1000.0, 10000.0,\n",
       "                         100000.0, 1000000.0, 10000000.0, 100000000.0,\n",
       "                         1000000000.0],\n",
       "                     class_weight=None, cv=5, dual=False, fit_intercept=True,\n",
       "                     intercept_scaling=1.0, l1_ratios=None, max_iter=10000,\n",
       "                     multi_class='auto', n_jobs=None, penalty='l2',\n",
       "                     random_state=777, refit=True, scoring='roc_auc',\n",
       "                     solver='newton-cg', tol=10, verbose=0)"
      ]
     },
     "execution_count": 35,
     "metadata": {},
     "output_type": "execute_result"
    }
   ],
   "source": [
    "from sklearn.linear_model import LogisticRegressionCV\n",
    "import numpy as np\n",
    "\n",
    "# logistic regression with cross-validation.\n",
    "# clf = LogisticRegressionCV(cv=5, random_state=0, multi_class='multinomial').fit(X, y)\n",
    "clf = LogisticRegressionCV(\n",
    "        Cs=list(np.power(10.0, np.arange(-10, 10)))\n",
    "        ,penalty='l2'\n",
    "        ,scoring='roc_auc'\n",
    "        ,cv=5\n",
    "        ,random_state=777\n",
    "        ,max_iter=10000\n",
    "        ,fit_intercept=True\n",
    "        ,solver='newton-cg'\n",
    "        ,tol=10\n",
    "    )\n",
    "clf.fit(X, y)\n"
   ]
  },
  {
   "cell_type": "code",
   "execution_count": 36,
   "metadata": {},
   "outputs": [
    {
     "name": "stdout",
     "output_type": "stream",
     "text": [
      "funding_total_usd                 6.117747\n",
      "all_tweet_num                    76.859577\n",
      "preA_tweet_num                    0.558788\n",
      "postA_tweet_num                  69.524345\n",
      "preA_tweet_freq                 -20.058792\n",
      "postA_tweet_freq                -35.147651\n",
      "preA_tweet_avglength             -0.190996\n",
      "postA_tweet_avglength            -0.035495\n",
      "preA_tweet_content_richness       0.082472\n",
      "postA_tweet_content_richness      0.053074\n",
      "preA_tweet_interactiveness       -0.218167\n",
      "postA_tweet_interactiveness       0.112562\n",
      "status_feature                    0.060138\n",
      "country_feature                   0.198072\n",
      "age_feature                      -0.175461\n",
      "days_since_first_funding         -0.132748\n",
      "tweet_num_change                 64.281831\n",
      "tweet_freq_change               -21.045659\n",
      "tweet_avglength_change            0.113731\n",
      "tweet_content_richness_change    -0.063294\n",
      "tweet_interactiveness_change      0.637799\n",
      "category_score                    0.125905\n",
      "market_score                      0.067548\n",
      "tweets_pos_topic_score            0.000040\n",
      "tweets_neg_topic_score           -0.000076\n",
      "tweets_neg_sent_score             0.000030\n",
      "tweets_neu_sent_score             0.004504\n",
      "tweets_pos_sent_score            -0.002046\n",
      "tweets_compound_sent_score       -0.002393\n",
      "dtype: float64\n"
     ]
    }
   ],
   "source": [
    "# look at important features.\n",
    "print(pd.Series((np.std(X, 0)*clf.coef_)[0, :], index=selected_features[:-1]))"
   ]
  },
  {
   "cell_type": "code",
   "execution_count": 37,
   "metadata": {},
   "outputs": [
    {
     "name": "stdout",
     "output_type": "stream",
     "text": [
      "[1 1 1 ... 0 1 1]\n"
     ]
    }
   ],
   "source": [
    "# save trained model.\n",
    "import pickle\n",
    "processed_data_dir = '/Users/caihao/Dropbox/Insight_Jan2020/data/processed'\n",
    "# with open(processed_data_dir + '/model_logreg_2.pkl', 'wb') as f:\n",
    "#     pickle.dump(clf, f)\n",
    "\n",
    "new_clf = pickle.load(open(processed_data_dir + '/model_logreg_2.pkl', 'rb'))\n",
    "print(new_clf.predict(X))"
   ]
  },
  {
   "cell_type": "code",
   "execution_count": 12,
   "metadata": {
    "scrolled": true
   },
   "outputs": [
    {
     "name": "stdout",
     "output_type": "stream",
     "text": [
      "Best Penalty:  l2\n",
      "Best C:  10000.0\n"
     ]
    }
   ],
   "source": [
    "# Grid search for logistic model.\n",
    "import warnings\n",
    "warnings.filterwarnings('ignore')\n",
    "from sklearn.model_selection import train_test_split, KFold, RandomizedSearchCV, GridSearchCV\n",
    "from sklearn.linear_model import LogisticRegression\n",
    "\n",
    "logistic = LogisticRegression()\n",
    "\n",
    "penalty = ['l1', 'l2']\n",
    "C = np.logspace(0, 4, 10)\n",
    "\n",
    "hyperparameters = dict(C=C, penalty=penalty)\n",
    "clf = GridSearchCV(logistic, hyperparameters, cv=5, verbose=0)\n",
    "best_model = clf.fit(X, y)\n",
    "\n",
    "print('Best Penalty: ', best_model.best_estimator_.get_params()['penalty'])\n",
    "print('Best C: ', best_model.best_estimator_.get_params()['C'])"
   ]
  },
  {
   "cell_type": "code",
   "execution_count": 38,
   "metadata": {},
   "outputs": [
    {
     "name": "stdout",
     "output_type": "stream",
     "text": [
      "Accuracy:  0.7873693276814213\n"
     ]
    }
   ],
   "source": [
    "# The above code finds the values for Best penalty as ‘xxx’ and best C is ‘xxx’.\n",
    "# Now let’s use these values and calculate the accuracy.\n",
    "from sklearn.model_selection import KFold\n",
    "from sklearn.model_selection import cross_val_score\n",
    "from sklearn.metrics import SCORERS\n",
    "\n",
    "# all scoring metrics\n",
    "# print(sorted(SCORERS.keys()))\n",
    "\n",
    "# cross-validation.\n",
    "kfold = KFold(n_splits=5, random_state=7)\n",
    "model = LogisticRegression(C=1, penalty='l2')\n",
    "result = cross_val_score(model, X, y, cv=kfold, scoring='accuracy')\n",
    "print(\"Accuracy: \", result.mean())"
   ]
  },
  {
   "cell_type": "code",
   "execution_count": 39,
   "metadata": {},
   "outputs": [
    {
     "name": "stdout",
     "output_type": "stream",
     "text": [
      "Accuracy:  0.8554112554112554\n",
      "OOB score:  0.8283803863298663\n",
      "all_tweet_num                    0.070170\n",
      "preA_tweet_num                   0.006017\n",
      "postA_tweet_num                  0.137715\n",
      "preA_tweet_freq                  0.022275\n",
      "postA_tweet_freq                 0.058020\n",
      "preA_tweet_avglength             0.009953\n",
      "postA_tweet_avglength            0.007588\n",
      "preA_tweet_content_richness      0.003527\n",
      "postA_tweet_content_richness     0.022256\n",
      "preA_tweet_interactiveness       0.002886\n",
      "postA_tweet_interactiveness      0.075755\n",
      "status_feature                   0.005783\n",
      "country_feature                  0.015291\n",
      "age_feature                      0.015976\n",
      "days_since_first_funding         0.088993\n",
      "tweet_num_change                 0.201107\n",
      "tweet_freq_change                0.028976\n",
      "tweet_avglength_change           0.021211\n",
      "tweet_content_richness_change    0.028871\n",
      "tweet_interactiveness_change     0.056169\n",
      "category_score                   0.005345\n",
      "market_score                     0.004666\n",
      "tweets_pos_topic_score           0.076149\n",
      "tweets_neg_topic_score           0.019596\n",
      "tweets_neg_sent_score            0.004481\n",
      "tweets_neu_sent_score            0.002790\n",
      "tweets_pos_sent_score            0.005859\n",
      "tweets_compound_sent_score       0.002573\n",
      "dtype: float64\n"
     ]
    }
   ],
   "source": [
    "# Random forest model.\n",
    "from sklearn.ensemble import RandomForestClassifier\n",
    "from sklearn.model_selection import train_test_split  \n",
    "\n",
    "X_train, X_test, y_train, y_test = train_test_split(X[:, 1:], y, test_size=0.3, random_state=10)\n",
    "\n",
    "# Create the model with 100 trees\n",
    "clf = RandomForestClassifier(max_depth=5, n_estimators=20, random_state=7, oob_score=True)\n",
    "clf.fit(X_train, y_train)\n",
    "\n",
    "# Accuracy\n",
    "print(\"Accuracy: \", clf.score(X_test, y_test))\n",
    "print(\"OOB score: \", clf.oob_score_)\n",
    "\n",
    "# feature importances.\n",
    "print(pd.Series(clf.feature_importances_, index=selected_features[1:-1]))"
   ]
  },
  {
   "cell_type": "code",
   "execution_count": 40,
   "metadata": {},
   "outputs": [
    {
     "name": "stdout",
     "output_type": "stream",
     "text": [
      "[0 0 0 ... 0 1 0]\n"
     ]
    }
   ],
   "source": [
    "# save trained model.\n",
    "import pickle\n",
    "processed_data_dir = '/Users/caihao/Dropbox/Insight_Jan2020/data/processed'\n",
    "# with open(processed_data_dir + '/model_rf.pkl', 'wb') as f:\n",
    "#     pickle.dump(clf, f)\n",
    "\n",
    "new_clf = pickle.load(open(processed_data_dir + '/model_rf.pkl', 'rb'))\n",
    "print(new_clf.predict(X_test))"
   ]
  },
  {
   "cell_type": "code",
   "execution_count": 41,
   "metadata": {},
   "outputs": [
    {
     "name": "stdout",
     "output_type": "stream",
     "text": [
      "Learning rate:  0.05\n",
      "Accuracy score (training): 0.737\n",
      "Accuracy score (validation): 0.710\n",
      "\n",
      "Learning rate:  0.1\n",
      "Accuracy score (training): 0.792\n",
      "Accuracy score (validation): 0.741\n",
      "\n",
      "Learning rate:  0.25\n",
      "Accuracy score (training): 0.838\n",
      "Accuracy score (validation): 0.798\n",
      "\n",
      "Learning rate:  0.5\n",
      "Accuracy score (training): 0.875\n",
      "Accuracy score (validation): 0.811\n",
      "\n",
      "Learning rate:  0.75\n",
      "Accuracy score (training): 0.894\n",
      "Accuracy score (validation): 0.823\n",
      "\n",
      "Learning rate:  1\n",
      "Accuracy score (training): 0.895\n",
      "Accuracy score (validation): 0.845\n",
      "\n",
      "Learning rate:  2\n",
      "Accuracy score (training): 0.584\n",
      "Accuracy score (validation): 0.579\n",
      "\n",
      "Learning rate:  5\n",
      "Accuracy score (training): 0.628\n",
      "Accuracy score (validation): 0.614\n",
      "\n",
      "Learning rate:  10\n",
      "Accuracy score (training): 0.384\n",
      "Accuracy score (validation): 0.377\n",
      "\n",
      "Confusion Matrix:\n",
      "[[218  47]\n",
      " [ 57 351]]\n",
      "\n",
      "Classification Report\n",
      "              precision    recall  f1-score   support\n",
      "\n",
      "           0       0.79      0.82      0.81       265\n",
      "           1       0.88      0.86      0.87       408\n",
      "\n",
      "    accuracy                           0.85       673\n",
      "   macro avg       0.84      0.84      0.84       673\n",
      "weighted avg       0.85      0.85      0.85       673\n",
      "\n",
      "Area under ROC curve = 0.92\n",
      "all_tweet_num                    0.034178\n",
      "preA_tweet_num                   0.007826\n",
      "postA_tweet_num                  0.055952\n",
      "preA_tweet_freq                  0.037907\n",
      "postA_tweet_freq                 0.000000\n",
      "preA_tweet_avglength             0.006909\n",
      "postA_tweet_avglength            0.008635\n",
      "preA_tweet_content_richness      0.000000\n",
      "postA_tweet_content_richness     0.034359\n",
      "preA_tweet_interactiveness       0.013075\n",
      "postA_tweet_interactiveness      0.031688\n",
      "status_feature                   0.018239\n",
      "country_feature                  0.017631\n",
      "age_feature                      0.000000\n",
      "days_since_first_funding         0.089715\n",
      "tweet_num_change                 0.387116\n",
      "tweet_freq_change                0.064551\n",
      "tweet_avglength_change           0.006393\n",
      "tweet_content_richness_change    0.007151\n",
      "tweet_interactiveness_change     0.008503\n",
      "category_score                   0.004012\n",
      "market_score                     0.000000\n",
      "tweets_pos_topic_score           0.080850\n",
      "tweets_neg_topic_score           0.025472\n",
      "tweets_neg_sent_score            0.009092\n",
      "tweets_neu_sent_score            0.032481\n",
      "tweets_pos_sent_score            0.013426\n",
      "tweets_compound_sent_score       0.004838\n",
      "dtype: float64\n"
     ]
    }
   ],
   "source": [
    "# XGBoost model.\n",
    "from sklearn.preprocessing import MinMaxScaler\n",
    "from sklearn.ensemble import GradientBoostingClassifier\n",
    "from sklearn.metrics import classification_report, confusion_matrix, roc_curve, auc\n",
    "scaler = MinMaxScaler()\n",
    "X_train_scale = scaler.fit_transform(X_train)\n",
    "X_test_scale = scaler.transform(X_test)\n",
    "\n",
    "# split training feature and target sets into training and validation subsets\n",
    "from sklearn.model_selection import train_test_split\n",
    "X_train_sub, X_validation_sub, y_train_sub, y_validation_sub = train_test_split(X_train_scale, y_train, random_state=0)\n",
    "\n",
    "# import machine learning algorithms\n",
    "from sklearn.ensemble import GradientBoostingClassifier\n",
    "from sklearn.metrics import classification_report, confusion_matrix, roc_curve, auc\n",
    "\n",
    "# train with Gradient Boosting algorithm\n",
    "# compute the accuracy scores on train and validation sets when training with different learning rates\n",
    "\n",
    "learning_rates = [0.05, 0.1, 0.25, 0.5, 0.75, 1, 2, 5, 10]\n",
    "for learning_rate in learning_rates:\n",
    "    gb = GradientBoostingClassifier(n_estimators=20, learning_rate = learning_rate, max_features=2, max_depth = 2, random_state = 0)\n",
    "    gb.fit(X_train_sub, y_train_sub)\n",
    "    print(\"Learning rate: \", learning_rate)\n",
    "    print(\"Accuracy score (training): {0:.3f}\".format(gb.score(X_train_sub, y_train_sub)))\n",
    "    print(\"Accuracy score (validation): {0:.3f}\".format(gb.score(X_validation_sub, y_validation_sub)))\n",
    "    print()\n",
    "    \n",
    "# Output confusion matrix and classification report of Gradient Boosting algorithm on validation set\n",
    "gb = GradientBoostingClassifier(n_estimators=20, learning_rate = 1.0, max_features=2, max_depth = 2, random_state = 0)\n",
    "gb.fit(X_train_sub, y_train_sub)\n",
    "predictions = gb.predict(X_validation_sub)\n",
    "print(\"Confusion Matrix:\")\n",
    "print(confusion_matrix(y_validation_sub, predictions))\n",
    "print()\n",
    "print(\"Classification Report\")\n",
    "print(classification_report(y_validation_sub, predictions))\n",
    "\n",
    "# ROC curve and Area-Under-Curve (AUC)\n",
    "y_scores_gb = gb.decision_function(X_validation_sub)\n",
    "fpr_gb, tpr_gb, _ = roc_curve(y_validation_sub, y_scores_gb)\n",
    "roc_auc_gb = auc(fpr_gb, tpr_gb)\n",
    "\n",
    "print(\"Area under ROC curve = {:0.2f}\".format(roc_auc_gb))\n",
    "\n",
    "# feature importances.\n",
    "print(pd.Series(gb.feature_importances_, index=selected_features[1:-1]))"
   ]
  },
  {
   "cell_type": "code",
   "execution_count": 42,
   "metadata": {},
   "outputs": [
    {
     "name": "stdout",
     "output_type": "stream",
     "text": [
      "[0 0 0 ... 0 1 0]\n"
     ]
    }
   ],
   "source": [
    "# save trained model.\n",
    "import pickle\n",
    "processed_data_dir = '/Users/caihao/Dropbox/Insight_Jan2020/data/processed'\n",
    "# with open(processed_data_dir + '/model_xgb.pkl', 'wb') as f:\n",
    "#     pickle.dump(clf, f)\n",
    "\n",
    "new_clf = pickle.load(open(processed_data_dir + '/model_xgb.pkl', 'rb'))\n",
    "print(new_clf.predict(X_test))"
   ]
  }
 ],
 "metadata": {
  "kernelspec": {
   "display_name": "Py3",
   "language": "python",
   "name": "py3"
  },
  "language_info": {
   "codemirror_mode": {
    "name": "ipython",
    "version": 3
   },
   "file_extension": ".py",
   "mimetype": "text/x-python",
   "name": "python",
   "nbconvert_exporter": "python",
   "pygments_lexer": "ipython3",
   "version": "3.7.2"
  }
 },
 "nbformat": 4,
 "nbformat_minor": 2
}
