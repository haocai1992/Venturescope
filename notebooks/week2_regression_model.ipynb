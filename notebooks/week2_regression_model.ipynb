{
 "cells": [
  {
   "cell_type": "code",
   "execution_count": 3,
   "metadata": {},
   "outputs": [],
   "source": [
    "import pandas as pd\n",
    "import matplotlib.pyplot as plt\n",
    "import sys  \n",
    "sys.path.append(\"/Users/caihao/PycharmProjects/insight_project/\")\n",
    "from data.config import raw_data_dir, processed_data_dir, cleaned_data_dir"
   ]
  },
  {
   "cell_type": "code",
   "execution_count": 7,
   "metadata": {},
   "outputs": [
    {
     "name": "stdout",
     "output_type": "stream",
     "text": [
      "Index(['permalink', 'name', 'homepage_url', 'category_list', 'market',\n",
      "       'funding_total_usd', 'status', 'country_code', 'state_code', 'region',\n",
      "       'city', 'funding_rounds', 'founded_at', 'founded_month',\n",
      "       'founded_quarter', 'founded_year', 'first_funding_at',\n",
      "       'last_funding_at', 'twitter_username', 'first2last_funding_days',\n",
      "       'twit_since', 'twit_until', 'series_a_date', 'preA_timespan',\n",
      "       'postA_timespan', 'all_tweet_num', 'preA_tweet_num', 'postA_tweet_num',\n",
      "       'preA_tweet_freq', 'postA_tweet_freq', 'preA_tweet_avglength',\n",
      "       'postA_tweet_avglength', 'preA_tweet_content_richness',\n",
      "       'postA_tweet_content_richness', 'preA_tweet_interactiveness',\n",
      "       'postA_tweet_interactiveness'],\n",
      "      dtype='object')\n",
      "                   permalink         name               homepage_url  \\\n",
      "0      /organization/waywire     #waywire     http://www.waywire.com   \n",
      "1    /organization/1daylater    1DayLater       http://1daylater.com   \n",
      "2       /organization/20x200       20x200      http://www.20x200.com   \n",
      "3      /organization/22seeds      22seeds     http://www.22seeds.com   \n",
      "4  /organization/247-techies  247 Techies  http://www.247techies.com   \n",
      "\n",
      "                                       category_list               market  \\\n",
      "0         |Entertainment|Politics|Social Media|News|                 News   \n",
      "1                             |Tracking|Curated Web|          Curated Web   \n",
      "2                   |Social Commerce|Art|E-Commerce|                  Art   \n",
      "3  |Web Tools|Android|iPhone|Web Development|Inte...             Software   \n",
      "4                              |Hardware + Software|  Hardware + Software   \n",
      "\n",
      "   funding_total_usd     status country_code state_code         region  \\\n",
      "0            1750000   acquired          USA         NY  New York City   \n",
      "1              43811  operating          NaN        NaN            NaN   \n",
      "2            2800000  operating          USA         NY  New York City   \n",
      "3             250000  operating          ISR        NaN       Tel Aviv   \n",
      "4             600000  operating          USA         NY  New York City   \n",
      "\n",
      "       city  funding_rounds  founded_at founded_month founded_quarter  \\\n",
      "0  New York               1  2012-06-01       2012-06         2012-Q2   \n",
      "1       NaN               2  2009-08-26       2009-08         2009-Q3   \n",
      "2  New York               2  2007-09-01       2007-09         2007-Q3   \n",
      "3  Tel Aviv               1  2010-01-01       2010-01         2010-Q1   \n",
      "4  New York               1         NaN           NaN             NaN   \n",
      "\n",
      "   founded_year first_funding_at last_funding_at twitter_username  \\\n",
      "0        2012.0       2012-06-30      2012-06-30          waywire   \n",
      "1        2009.0       2009-05-01      2009-10-01        1DayLater   \n",
      "2        2007.0       2009-10-01      2010-08-01           20x200   \n",
      "3        2010.0       2013-10-15      2013-10-15          22seeds   \n",
      "4           NaN       2012-11-05      2012-11-05       247techies   \n",
      "\n",
      "   first2last_funding_days  twit_since  twit_until series_a_date  \\\n",
      "0                        0  2011-07-01  2013-06-30    2012-06-30   \n",
      "1                      153  2008-05-01  2010-10-01    2009-05-01   \n",
      "2                      304  2008-10-01  2011-08-01    2009-10-01   \n",
      "3                        0  2012-10-15  2014-10-15    2013-10-15   \n",
      "4                        0  2011-11-06  2013-11-05    2012-11-05   \n",
      "\n",
      "   preA_timespan  postA_timespan  all_tweet_num  preA_tweet_num  \\\n",
      "0          105.0           364.0           9484              56   \n",
      "1            NaN           514.0            551               0   \n",
      "2          365.0           668.0           3473             303   \n",
      "3          317.0             NaN              6               6   \n",
      "4          356.0           345.0            120              35   \n",
      "\n",
      "   postA_tweet_num  preA_tweet_freq  postA_tweet_freq  preA_tweet_avglength  \\\n",
      "0             9428         3.733333        181.307692            103.660714   \n",
      "1              551              NaN          7.503891                   NaN   \n",
      "2             3170         5.810959         33.218563            108.669967   \n",
      "3                0         0.132492               NaN            148.000000   \n",
      "4               85         0.688202          1.724638            106.828571   \n",
      "\n",
      "   postA_tweet_avglength  preA_tweet_content_richness  \\\n",
      "0              95.517925                     1.125000   \n",
      "1             113.822142                          NaN   \n",
      "2             115.986435                     0.019802   \n",
      "3                    NaN                     1.333333   \n",
      "4              87.400000                     1.114286   \n",
      "\n",
      "   postA_tweet_content_richness  preA_tweet_interactiveness  \\\n",
      "0                      1.656767                    0.000000   \n",
      "1                      0.145191                         NaN   \n",
      "2                      0.077287                    0.221122   \n",
      "3                           NaN                    0.666667   \n",
      "4                      1.411765                    0.057143   \n",
      "\n",
      "   postA_tweet_interactiveness  \n",
      "0                     2.336020  \n",
      "1                     0.372051  \n",
      "2                     1.138486  \n",
      "3                          NaN  \n",
      "4                     0.200000  \n"
     ]
    }
   ],
   "source": [
    "# merge preprocessed company and twitter data.\n",
    "pd.set_option('display.max_columns', None)\n",
    "\n",
    "company_df = pd.read_csv(processed_data_dir + '/companies_2014_series_ab_tweeted.csv')\n",
    "twitter_df = pd.read_csv(processed_data_dir + '/tweets_2014_series_ab.csv')\n",
    "df = pd.concat([company_df, twitter_df], axis=1)\n",
    "print(df.columns)\n",
    "print(df.head())"
   ]
  },
  {
   "cell_type": "code",
   "execution_count": 118,
   "metadata": {},
   "outputs": [
    {
     "name": "stdout",
     "output_type": "stream",
     "text": [
      "count     515.000000\n",
      "mean      219.392233\n",
      "std       463.748231\n",
      "min         0.000000\n",
      "25%         0.000000\n",
      "50%         0.000000\n",
      "75%       307.500000\n",
      "max      5478.000000\n",
      "Name: first2last_funding_days, dtype: float64\n"
     ]
    },
    {
     "data": {
      "image/png": "[encoded data removed]",
      "text/plain": [
       "<Figure size 432x288 with 1 Axes>"
      ]
     },
     "metadata": {
      "needs_background": "light"
     },
     "output_type": "display_data"
    }
   ],
   "source": [
    "# convert 'first2last_funding_days' to classes and save as labels 0 to 7 (0 means no series b).\n",
    "print(df.first2last_funding_days.describe())\n",
    "df[df.first2last_funding_days>0].first2last_funding_days.hist(bins=100)\n",
    "labels_ = pd.cut(x = df.first2last_funding_days, \\\n",
    "          bins = [-1, 0, 180, 360, 540, 720, 900, 1080, 10000], \\\n",
    "          labels = [0, 1, 2, 3, 4, 5, 6, 7])\n",
    "# print(labels_)"
   ]
  },
  {
   "cell_type": "code",
   "execution_count": 89,
   "metadata": {},
   "outputs": [
    {
     "name": "stdout",
     "output_type": "stream",
     "text": [
      "354\n"
     ]
    }
   ],
   "source": [
    "# select all features that I think matters and convert them to numerical values.\n",
    "# features that I think matters are:\n",
    "# category_list, market, country_code, funding_total_usd, status, country_code, funding_rounds, founded_year, \n",
    "# all_tweet_num, preA_tweet_num, postA_tweet_num, preA_tweet_freq, postA_tweet_freq, preA_tweet_avglength, \n",
    "# postA_tweet_avglength, preA_tweet_content_richness, postA_tweet_content_richness, preA_tweet_interactiveness,\n",
    "# postA_tweet_interactiveness\n",
    "\n",
    "import re\n",
    "\n",
    "# division of category_list column.\n",
    "all_categories = []\n",
    "for category_list in df.category_list.fillna('|').tolist():\n",
    "    categories = re.split('\\||\\+', category_list)\n",
    "    for category in categories:\n",
    "        all_categories.append(category)\n",
    "print(len(set(all_categories)))"
   ]
  },
  {
   "cell_type": "code",
   "execution_count": 90,
   "metadata": {},
   "outputs": [
    {
     "name": "stdout",
     "output_type": "stream",
     "text": [
      "158\n"
     ]
    }
   ],
   "source": [
    "# division of market column.\n",
    "all_markets = []\n",
    "for market in df.market.fillna('+').tolist():\n",
    "    markets = re.split('\\+', market)\n",
    "    for market_ in markets:\n",
    "        all_markets.append(market_)\n",
    "print(len(set(all_markets)))"
   ]
  },
  {
   "cell_type": "markdown",
   "metadata": {},
   "source": [
    "catetory_list and market column requires clustering using nlp to convert them to features. Save that for later for now."
   ]
  },
  {
   "cell_type": "code",
   "execution_count": 119,
   "metadata": {},
   "outputs": [],
   "source": [
    "# feature engineering.\n",
    "df['funding_total_usd']\n",
    "df['status_feature'] = df['status'].map({'closed': 0, 'operating': 1, 'acquired': 2}).fillna(0)\n",
    "df['country_feature'] = df['country_code'].apply(lambda x: 1 if x=='USA' else 0)\n",
    "df['age_feature'] = (pd.to_datetime('2014-12-31') - pd.to_datetime(df.founded_at)).dt.days\n",
    "df['age_feature'] = df['age_feature'].fillna(df['age_feature'].mean())\n",
    "# df['funding_rounds']\n",
    "df['days_since_first_funding'] = (pd.to_datetime('2014-12-31') - pd.to_datetime(df.first_funding_at)).dt.days\n",
    "# df['days_since_last_funding'] = (pd.to_datetime('2014-12-31') - pd.to_datetime(df.last_funding_at)).dt.days\n",
    "df['all_tweet_num'] = df['all_tweet_num'].fillna(0)\n",
    "df['preA_tweet_num'] = df['preA_tweet_num'].fillna(0)\n",
    "df['postA_tweet_num'] = df['postA_tweet_num'].fillna(0)\n",
    "df['preA_tweet_freq'] = df['preA_tweet_freq'].fillna(0)\n",
    "df['postA_tweet_freq'] = df['postA_tweet_freq'].fillna(0)\n",
    "df['preA_tweet_avglength'] = df['preA_tweet_avglength'].fillna(0)\n",
    "df['postA_tweet_avglength'] = df['postA_tweet_avglength'].fillna(0)\n",
    "df['preA_tweet_content_richness'] = df['preA_tweet_content_richness'].fillna(0)\n",
    "df['postA_tweet_content_richness'] = df['postA_tweet_content_richness'].fillna(0)\n",
    "df['preA_tweet_interactiveness'] = df['preA_tweet_interactiveness'].fillna(0)\n",
    "df['postA_tweet_interactiveness'] = df['postA_tweet_interactiveness'].fillna(0)"
   ]
  },
  {
   "cell_type": "code",
   "execution_count": 135,
   "metadata": {},
   "outputs": [
    {
     "name": "stdout",
     "output_type": "stream",
     "text": [
      "515 515\n"
     ]
    }
   ],
   "source": [
    "# dividing training set and test set.\n",
    "new_df = df[['funding_total_usd', 'status_feature', 'country_feature', 'age_feature', \\\n",
    "             'days_since_first_funding', 'all_tweet_num', 'preA_tweet_num', 'postA_tweet_num', \\\n",
    "             'preA_tweet_freq', 'postA_tweet_freq', 'preA_tweet_avglength', 'postA_tweet_avglength', \\\n",
    "             'preA_tweet_content_richness', 'postA_tweet_content_richness', 'preA_tweet_interactiveness', \\\n",
    "             'postA_tweet_interactiveness']].copy()\n",
    "X = new_df.values\n",
    "y = labels_.values # multi-class (time prediction)\n",
    "# y = labels_.apply(lambda x: 1 if x>0 else 0).values # binary class (success prediction)\n",
    "print(len(X), len(y))\n",
    "\n",
    "X_train, y_train = X[:400, :], y[:400]\n",
    "X_test, y_test = X[400:, :], y[400:]"
   ]
  },
  {
   "cell_type": "code",
   "execution_count": 136,
   "metadata": {},
   "outputs": [
    {
     "name": "stdout",
     "output_type": "stream",
     "text": [
      "0.6434782608695652\n",
      "[0 0 0 0 0 0 0 0 0 0 0 0 0 0 0 0 0 0 0 0 0 0 0 0 3 0 0 0 0 0 0 0 0 0 0 0 0\n",
      " 0 0 0 0 0 0 3 0 0 0 0 0 0 0 0 0 0 0 0 0 0 0 0 0 0 7 0 0 0 0 0 0 0 0 0 0 0\n",
      " 0 0 0 0 0 0 0 0 0 0 0 0 0 0 0 0 0 0 0 0 0 0 0 0 0 0 0 0 0 0 0 0 0 0 0 0 0\n",
      " 0 3 0 0]\n"
     ]
    },
    {
     "name": "stderr",
     "output_type": "stream",
     "text": [
      "/anaconda3/envs/py3/lib/python3.7/site-packages/sklearn/linear_model/logistic.py:433: FutureWarning: Default solver will be changed to 'lbfgs' in 0.22. Specify a solver to silence this warning.\n",
      "  FutureWarning)\n",
      "/anaconda3/envs/py3/lib/python3.7/site-packages/sklearn/linear_model/logistic.py:460: FutureWarning: Default multi_class will be changed to 'auto' in 0.22. Specify the multi_class option to silence this warning.\n",
      "  \"this warning.\", FutureWarning)\n"
     ]
    }
   ],
   "source": [
    "# Logistic regression.\n",
    "from sklearn.linear_model import LogisticRegression\n",
    "\n",
    "# all parameters not specified are set to their defaults\n",
    "logreg = LogisticRegression(random_state=0)\n",
    "logreg.fit(X_train, y_train)\n",
    "score = logreg.score(X_test, y_test)\n",
    "print(score)\n",
    "print(logreg.predict(X_test))"
   ]
  },
  {
   "cell_type": "markdown",
   "metadata": {},
   "source": [
    "This is a bad results, given the large number of negative examples in my dataset. Therefore, I will need to improve on the feature engineering part a lot in the future.\n",
    "\n",
    "For now, I wwant to save my dataset and pre-trained model, for the purpose of building a prediction pipeline quickly."
   ]
  },
  {
   "cell_type": "code",
   "execution_count": 141,
   "metadata": {},
   "outputs": [],
   "source": [
    "# save dataframe.\n",
    "new_df['a2b_series_time_label'] = labels_\n",
    "new_df['permalink'] = company_df['permalink']\n",
    "new_df['name'] = company_df['name']\n",
    "# new_df.to_csv(processed_data_dir + '/model_logreg1_data.csv', index=False)"
   ]
  },
  {
   "cell_type": "code",
   "execution_count": 151,
   "metadata": {},
   "outputs": [
    {
     "name": "stdout",
     "output_type": "stream",
     "text": [
      "[0 0 0 0 0 0 0 0 0 0 0 0 0 0 0 0 0 0 0 0 0 0 0 0 3 0 0 0 0 0 0 0 0 0 0 0 0\n",
      " 0 0 0 0 0 0 3 0 0 0 0 0 0 0 0 0 0 0 0 0 0 0 0 0 0 7 0 0 0 0 0 0 0 0 0 0 0\n",
      " 0 0 0 0 0 0 0 0 0 0 0 0 0 0 0 0 0 0 0 0 0 0 0 0 0 0 0 0 0 0 0 0 0 0 0 0 0\n",
      " 0 3 0 0]\n"
     ]
    }
   ],
   "source": [
    "# save trained model.\n",
    "import pickle\n",
    "processed_data_dir = '/Users/caihao/Dropbox/Insight_Jan2020/data/processed'\n",
    "with open(processed_data_dir + '/model_logreg1.pkl', 'wb') as f:\n",
    "    pickle.dump(logreg, f)\n",
    "\n",
    "new_logreg = pickle.load(open(processed_data_dir + '/model_logreg1.pkl', 'rb'))\n",
    "print(new_logreg.predict(X_test))"
   ]
  }
 ],
 "metadata": {
  "kernelspec": {
   "display_name": "Py3",
   "language": "python",
   "name": "py3"
  },
  "language_info": {
   "codemirror_mode": {
    "name": "ipython",
    "version": 3
   },
   "file_extension": ".py",
   "mimetype": "text/x-python",
   "name": "python",
   "nbconvert_exporter": "python",
   "pygments_lexer": "ipython3",
   "version": "3.7.2"
  }
 },
 "nbformat": 4,
 "nbformat_minor": 2
}
